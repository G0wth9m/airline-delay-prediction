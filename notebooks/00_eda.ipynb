{
  "cells": [
    {
      "cell_type": "markdown",
      "metadata": {},
      "source": [
        "# EDA \u2014 Flight Delays\n",
        "Quick EDA placeholder. Import your CSV into `data/raw/flights.csv` and explore distributions and correlations."
      ]
    },
    {
      "cell_type": "code",
      "metadata": {},
      "source": [
        "import pandas as pd\n",
        "import matplotlib.pyplot as plt\n",
        "df = pd.read_csv('data/raw/flights.csv')\n",
        "df['ArrDelay'].hist(bins=50)\n",
        "plt.title('Arrival Delay Distribution')\n",
        "plt.show()"
      ]
    }
  ],
  "metadata": {
    "kernelspec": {
      "display_name": "python3",
      "language": "python",
      "name": "python3"
    }
  },
  "nbformat": 4,
  "nbformat_minor": 5
}